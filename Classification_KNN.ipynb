{
  "nbformat": 4,
  "nbformat_minor": 0,
  "metadata": {
    "colab": {
      "provenance": [],
      "authorship_tag": "ABX9TyOyyZVZrtno8jXy74TD3/cC",
      "include_colab_link": true
    },
    "kernelspec": {
      "name": "python3",
      "display_name": "Python 3"
    },
    "language_info": {
      "name": "python"
    }
  },
  "cells": [
    {
      "cell_type": "markdown",
      "metadata": {
        "id": "view-in-github",
        "colab_type": "text"
      },
      "source": [
        "<a href=\"https://colab.research.google.com/github/Aomaphisara/bsc_dpdm22/blob/main/Classification_KNN.ipynb\" target=\"_parent\"><img src=\"https://colab.research.google.com/assets/colab-badge.svg\" alt=\"Open In Colab\"/></a>"
      ]
    },
    {
      "cell_type": "code",
      "execution_count": 1,
      "metadata": {
        "id": "30QF3pRMU3MR"
      },
      "outputs": [],
      "source": [
        "from sklearn.datasets import load_digits\n",
        "digits = load_digits()\n",
        "\n",
        "import matplotlib.pyplot as plt"
      ]
    },
    {
      "cell_type": "code",
      "source": [
        "digits"
      ],
      "metadata": {
        "colab": {
          "base_uri": "https://localhost:8080/"
        },
        "id": "2kqEDU2CWZ-1",
        "outputId": "281f08f3-6ea6-403f-db3a-677c92990812"
      },
      "execution_count": 2,
      "outputs": [
        {
          "output_type": "execute_result",
          "data": {
            "text/plain": [
              "{'data': array([[ 0.,  0.,  5., ...,  0.,  0.,  0.],\n",
              "        [ 0.,  0.,  0., ..., 10.,  0.,  0.],\n",
              "        [ 0.,  0.,  0., ..., 16.,  9.,  0.],\n",
              "        ...,\n",
              "        [ 0.,  0.,  1., ...,  6.,  0.,  0.],\n",
              "        [ 0.,  0.,  2., ..., 12.,  0.,  0.],\n",
              "        [ 0.,  0., 10., ..., 12.,  1.,  0.]]),\n",
              " 'target': array([0, 1, 2, ..., 8, 9, 8]),\n",
              " 'frame': None,\n",
              " 'feature_names': ['pixel_0_0',\n",
              "  'pixel_0_1',\n",
              "  'pixel_0_2',\n",
              "  'pixel_0_3',\n",
              "  'pixel_0_4',\n",
              "  'pixel_0_5',\n",
              "  'pixel_0_6',\n",
              "  'pixel_0_7',\n",
              "  'pixel_1_0',\n",
              "  'pixel_1_1',\n",
              "  'pixel_1_2',\n",
              "  'pixel_1_3',\n",
              "  'pixel_1_4',\n",
              "  'pixel_1_5',\n",
              "  'pixel_1_6',\n",
              "  'pixel_1_7',\n",
              "  'pixel_2_0',\n",
              "  'pixel_2_1',\n",
              "  'pixel_2_2',\n",
              "  'pixel_2_3',\n",
              "  'pixel_2_4',\n",
              "  'pixel_2_5',\n",
              "  'pixel_2_6',\n",
              "  'pixel_2_7',\n",
              "  'pixel_3_0',\n",
              "  'pixel_3_1',\n",
              "  'pixel_3_2',\n",
              "  'pixel_3_3',\n",
              "  'pixel_3_4',\n",
              "  'pixel_3_5',\n",
              "  'pixel_3_6',\n",
              "  'pixel_3_7',\n",
              "  'pixel_4_0',\n",
              "  'pixel_4_1',\n",
              "  'pixel_4_2',\n",
              "  'pixel_4_3',\n",
              "  'pixel_4_4',\n",
              "  'pixel_4_5',\n",
              "  'pixel_4_6',\n",
              "  'pixel_4_7',\n",
              "  'pixel_5_0',\n",
              "  'pixel_5_1',\n",
              "  'pixel_5_2',\n",
              "  'pixel_5_3',\n",
              "  'pixel_5_4',\n",
              "  'pixel_5_5',\n",
              "  'pixel_5_6',\n",
              "  'pixel_5_7',\n",
              "  'pixel_6_0',\n",
              "  'pixel_6_1',\n",
              "  'pixel_6_2',\n",
              "  'pixel_6_3',\n",
              "  'pixel_6_4',\n",
              "  'pixel_6_5',\n",
              "  'pixel_6_6',\n",
              "  'pixel_6_7',\n",
              "  'pixel_7_0',\n",
              "  'pixel_7_1',\n",
              "  'pixel_7_2',\n",
              "  'pixel_7_3',\n",
              "  'pixel_7_4',\n",
              "  'pixel_7_5',\n",
              "  'pixel_7_6',\n",
              "  'pixel_7_7'],\n",
              " 'target_names': array([0, 1, 2, 3, 4, 5, 6, 7, 8, 9]),\n",
              " 'images': array([[[ 0.,  0.,  5., ...,  1.,  0.,  0.],\n",
              "         [ 0.,  0., 13., ..., 15.,  5.,  0.],\n",
              "         [ 0.,  3., 15., ..., 11.,  8.,  0.],\n",
              "         ...,\n",
              "         [ 0.,  4., 11., ..., 12.,  7.,  0.],\n",
              "         [ 0.,  2., 14., ..., 12.,  0.,  0.],\n",
              "         [ 0.,  0.,  6., ...,  0.,  0.,  0.]],\n",
              " \n",
              "        [[ 0.,  0.,  0., ...,  5.,  0.,  0.],\n",
              "         [ 0.,  0.,  0., ...,  9.,  0.,  0.],\n",
              "         [ 0.,  0.,  3., ...,  6.,  0.,  0.],\n",
              "         ...,\n",
              "         [ 0.,  0.,  1., ...,  6.,  0.,  0.],\n",
              "         [ 0.,  0.,  1., ...,  6.,  0.,  0.],\n",
              "         [ 0.,  0.,  0., ..., 10.,  0.,  0.]],\n",
              " \n",
              "        [[ 0.,  0.,  0., ..., 12.,  0.,  0.],\n",
              "         [ 0.,  0.,  3., ..., 14.,  0.,  0.],\n",
              "         [ 0.,  0.,  8., ..., 16.,  0.,  0.],\n",
              "         ...,\n",
              "         [ 0.,  9., 16., ...,  0.,  0.,  0.],\n",
              "         [ 0.,  3., 13., ..., 11.,  5.,  0.],\n",
              "         [ 0.,  0.,  0., ..., 16.,  9.,  0.]],\n",
              " \n",
              "        ...,\n",
              " \n",
              "        [[ 0.,  0.,  1., ...,  1.,  0.,  0.],\n",
              "         [ 0.,  0., 13., ...,  2.,  1.,  0.],\n",
              "         [ 0.,  0., 16., ..., 16.,  5.,  0.],\n",
              "         ...,\n",
              "         [ 0.,  0., 16., ..., 15.,  0.,  0.],\n",
              "         [ 0.,  0., 15., ..., 16.,  0.,  0.],\n",
              "         [ 0.,  0.,  2., ...,  6.,  0.,  0.]],\n",
              " \n",
              "        [[ 0.,  0.,  2., ...,  0.,  0.,  0.],\n",
              "         [ 0.,  0., 14., ..., 15.,  1.,  0.],\n",
              "         [ 0.,  4., 16., ..., 16.,  7.,  0.],\n",
              "         ...,\n",
              "         [ 0.,  0.,  0., ..., 16.,  2.,  0.],\n",
              "         [ 0.,  0.,  4., ..., 16.,  2.,  0.],\n",
              "         [ 0.,  0.,  5., ..., 12.,  0.,  0.]],\n",
              " \n",
              "        [[ 0.,  0., 10., ...,  1.,  0.,  0.],\n",
              "         [ 0.,  2., 16., ...,  1.,  0.,  0.],\n",
              "         [ 0.,  0., 15., ..., 15.,  0.,  0.],\n",
              "         ...,\n",
              "         [ 0.,  4., 16., ..., 16.,  6.,  0.],\n",
              "         [ 0.,  8., 16., ..., 16.,  8.,  0.],\n",
              "         [ 0.,  1.,  8., ..., 12.,  1.,  0.]]]),\n",
              " 'DESCR': \".. _digits_dataset:\\n\\nOptical recognition of handwritten digits dataset\\n--------------------------------------------------\\n\\n**Data Set Characteristics:**\\n\\n    :Number of Instances: 1797\\n    :Number of Attributes: 64\\n    :Attribute Information: 8x8 image of integer pixels in the range 0..16.\\n    :Missing Attribute Values: None\\n    :Creator: E. Alpaydin (alpaydin '@' boun.edu.tr)\\n    :Date: July; 1998\\n\\nThis is a copy of the test set of the UCI ML hand-written digits datasets\\nhttps://archive.ics.uci.edu/ml/datasets/Optical+Recognition+of+Handwritten+Digits\\n\\nThe data set contains images of hand-written digits: 10 classes where\\neach class refers to a digit.\\n\\nPreprocessing programs made available by NIST were used to extract\\nnormalized bitmaps of handwritten digits from a preprinted form. From a\\ntotal of 43 people, 30 contributed to the training set and different 13\\nto the test set. 32x32 bitmaps are divided into nonoverlapping blocks of\\n4x4 and the number of on pixels are counted in each block. This generates\\nan input matrix of 8x8 where each element is an integer in the range\\n0..16. This reduces dimensionality and gives invariance to small\\ndistortions.\\n\\nFor info on NIST preprocessing routines, see M. D. Garris, J. L. Blue, G.\\nT. Candela, D. L. Dimmick, J. Geist, P. J. Grother, S. A. Janet, and C.\\nL. Wilson, NIST Form-Based Handprint Recognition System, NISTIR 5469,\\n1994.\\n\\n.. topic:: References\\n\\n  - C. Kaynak (1995) Methods of Combining Multiple Classifiers and Their\\n    Applications to Handwritten Digit Recognition, MSc Thesis, Institute of\\n    Graduate Studies in Science and Engineering, Bogazici University.\\n  - E. Alpaydin, C. Kaynak (1998) Cascading Classifiers, Kybernetika.\\n  - Ken Tang and Ponnuthurai N. Suganthan and Xi Yao and A. Kai Qin.\\n    Linear dimensionalityreduction using relevance weighted LDA. School of\\n    Electrical and Electronic Engineering Nanyang Technological University.\\n    2005.\\n  - Claudio Gentile. A New Approximate Maximal Margin Classification\\n    Algorithm. NIPS. 2000.\\n\"}"
            ]
          },
          "metadata": {},
          "execution_count": 2
        }
      ]
    },
    {
      "cell_type": "code",
      "source": [
        "ind =28\n",
        "plt.gray()\n",
        "plt.matshow(digits.images[ind])\n",
        "print(digits.target[ind])"
      ],
      "metadata": {
        "colab": {
          "base_uri": "https://localhost:8080/",
          "height": 310
        },
        "id": "3OR7B5izWxfj",
        "outputId": "1b7a936b-a1f2-4bc3-8218-fb364b429d6b"
      },
      "execution_count": 3,
      "outputs": [
        {
          "output_type": "stream",
          "name": "stdout",
          "text": [
            "8\n"
          ]
        },
        {
          "output_type": "display_data",
          "data": {
            "text/plain": [
              "<Figure size 432x288 with 0 Axes>"
            ]
          },
          "metadata": {}
        },
        {
          "output_type": "display_data",
          "data": {
            "text/plain": [
              "<Figure size 288x288 with 1 Axes>"
            ],
            "image/png": "[encoded data removed]"
          },
          "metadata": {
            "needs_background": "light"
          }
        }
      ]
    },
    {
      "cell_type": "markdown",
      "source": [
        "# Quiz  3 march\n",
        "- แบ่ง data ออกเป็น 80%(train)  20%(test) โดยใช้ random_state = 9\n",
        "- หา parameters ที่ดีที่สุด (K (1,3,5) Distance_weighted (yes/no)) ด้วย 10-fold-cross-validation\n",
        "- test parameters ที่ดีที่สุด กับ test data"
      ],
      "metadata": {
        "id": "lkrs5nDQXlgJ"
      }
    },
    {
      "cell_type": "code",
      "source": [
        "from sklearn.datasets import load_digits\n",
        "digits = load_digits()"
      ],
      "metadata": {
        "id": "ffAqzWvybE5I"
      },
      "execution_count": 4,
      "outputs": []
    },
    {
      "cell_type": "code",
      "source": [
        "X = digits['data']\n",
        "y = digits['target']"
      ],
      "metadata": {
        "id": "bQMwXsfqaiyB"
      },
      "execution_count": 5,
      "outputs": []
    },
    {
      "cell_type": "code",
      "source": [
        "from sklearn.datasets import load_digits\n",
        "from sklearn.tree import DecisionTreeClassifier\n",
        "from sklearn.model_selection import cross_val_score, KFold\n",
        "\n",
        "# Load the digits dataset\n",
        "digits = load_digits()\n",
        "\n",
        "# Split the dataset into features (X) and target (y)\n",
        "X = digits.data\n",
        "y = digits.target\n",
        "\n",
        "# Create a decision tree classifier\n",
        "clf = DecisionTreeClassifier()\n",
        "\n",
        "# Define the 10-fold cross-validation iterator\n",
        "cv = KFold(n_splits=10, shuffle=True, random_state=5)\n",
        "\n",
        "# Evaluate the classifier using 10-fold cross-validation\n",
        "scores = cross_val_score(clf, X, y, cv=cv)\n",
        "\n",
        "# Print the mean and standard deviation of the cross-validation scores\n",
        "print(\"Accuracy: %0.2f (+/- %0.2f)\" % (scores.mean(), scores.std() * 2))"
      ],
      "metadata": {
        "colab": {
          "base_uri": "https://localhost:8080/"
        },
        "id": "pcmeO4UvbhJ_",
        "outputId": "428dc299-76a8-46f7-9245-d007bcd17d3e"
      },
      "execution_count": 6,
      "outputs": [
        {
          "output_type": "stream",
          "name": "stdout",
          "text": [
            "Accuracy: 0.85 (+/- 0.06)\n"
          ]
        }
      ]
    },
    {
      "cell_type": "markdown",
      "source": [
        "#เฉลย\n"
      ],
      "metadata": {
        "id": "NNJrKh-Gf_Jc"
      }
    },
    {
      "cell_type": "code",
      "source": [
        "from sklearn.model_selection import train_test_split, cross_val_score"
      ],
      "metadata": {
        "id": "ugnP-BgHgDOr"
      },
      "execution_count": 7,
      "outputs": []
    },
    {
      "cell_type": "code",
      "source": [
        "X_train, X_test, y_train, y_test = train_test_split(X, y, test_size=0.2, random_state=5)"
      ],
      "metadata": {
        "id": "-TaMUflvgRUC"
      },
      "execution_count": 8,
      "outputs": []
    },
    {
      "cell_type": "code",
      "source": [
        "from sklearn.neighbors import KNeighborsClassifier"
      ],
      "metadata": {
        "id": "NF0uwj13m2VV"
      },
      "execution_count": 9,
      "outputs": []
    },
    {
      "cell_type": "markdown",
      "source": [
        "##model selection"
      ],
      "metadata": {
        "id": "Dz7gQZyWnSuz"
      }
    },
    {
      "cell_type": "code",
      "source": [
        "# model 1 (K=1, weighted)\n",
        "knn_distance = KNeighborsClassifier(n_neighbors=1, weights='distance')\n",
        "scores = cross_val_score(knn_distance, X_train, y_train, cv=10)\n",
        "print(\"Mean Cross-Validation Score: K1weighted\", scores.mean())\n",
        "\n",
        "# model 2 (K=3, weighted)\n",
        "knn_distance = KNeighborsClassifier(n_neighbors=3, weights='distance')\n",
        "scores = cross_val_score(knn_distance, X_train, y_train, cv=10)\n",
        "print(\"Mean Cross-Validation Score: K3weighted\", scores.mean())\n",
        "\n",
        "# model 3 (K=5, weighted)\n",
        "knn_distance = KNeighborsClassifier(n_neighbors=5, weights='distance')\n",
        "scores = cross_val_score(knn_distance, X_train, y_train, cv=10)\n",
        "print(\"Mean Cross-Validation Score: K5weighted\", scores.mean())\n",
        "\n",
        "# model 4 (K=1, no weighted)\n",
        "knn_distance = KNeighborsClassifier(n_neighbors=1, weights='uniform')\n",
        "scores = cross_val_score(knn_distance, X_train, y_train, cv=10)\n",
        "print(\"Mean Cross-Validation Score: K1NOweighted\", scores.mean())\n",
        "\n",
        "# model 5 (K=3, no weighted)\n",
        "knn_distance = KNeighborsClassifier(n_neighbors=3, weights='uniform')\n",
        "scores = cross_val_score(knn_distance, X_train, y_train, cv=10)\n",
        "print(\"Mean Cross-Validation Score: K3NOweighted\", scores.mean())\n",
        "\n",
        "# model 6 (K=5, no weighted)\n",
        "knn_distance = KNeighborsClassifier(n_neighbors=5, weights='uniform')\n",
        "scores = cross_val_score(knn_distance, X_train, y_train, cv=10)\n",
        "print(\"Mean Cross-Validation Score: KNOweighted\", scores.mean())"
      ],
      "metadata": {
        "colab": {
          "base_uri": "https://localhost:8080/"
        },
        "id": "8VoSjrp9f__9",
        "outputId": "ea1b9643-271d-41ff-c60f-53a27d3924b6"
      },
      "execution_count": 10,
      "outputs": [
        {
          "output_type": "stream",
          "name": "stdout",
          "text": [
            "Mean Cross-Validation Score: K1weighted 0.9881701631701633\n",
            "Mean Cross-Validation Score: K3weighted 0.9860771173271171\n",
            "Mean Cross-Validation Score: K5weighted 0.9826000388500388\n",
            "Mean Cross-Validation Score: K1NOweighted 0.9881701631701633\n",
            "Mean Cross-Validation Score: K3NOweighted 0.9860771173271171\n",
            "Mean Cross-Validation Score: KNOweighted 0.9826000388500388\n"
          ]
        }
      ]
    },
    {
      "cell_type": "markdown",
      "source": [
        "## Evaluate with test set"
      ],
      "metadata": {
        "id": "NZzfcSAZnh50"
      }
    },
    {
      "cell_type": "code",
      "source": [
        "knn_distance = KNeighborsClassifier(n_neighbors=5, weights='distance')\n",
        "\n",
        "knn_distance.fit(X_train,y_train)\n",
        "\n",
        "y_pred = knn_distance.predict(X_test)"
      ],
      "metadata": {
        "id": "boHyFbPzhMlJ"
      },
      "execution_count": 11,
      "outputs": []
    },
    {
      "cell_type": "code",
      "source": [
        "from sklearn.metrics import accuracy_score\n",
        "\n",
        "# Assume y_true and y_pred are the true and predicted labels, respectively\n",
        "accuracy = accuracy_score(y_test, y_pred)\n",
        "\n",
        "# Print the accuracy score\n",
        "print(\"Accuracy score: \", accuracy)\n"
      ],
      "metadata": {
        "colab": {
          "base_uri": "https://localhost:8080/"
        },
        "id": "--UCUjh6i3G6",
        "outputId": "6243dc25-5f5a-4a3d-867f-bac66d4ed2e8"
      },
      "execution_count": 12,
      "outputs": [
        {
          "output_type": "stream",
          "name": "stdout",
          "text": [
            "Accuracy score:  0.9833333333333333\n"
          ]
        }
      ]
    },
    {
      "cell_type": "markdown",
      "source": [
        "#การบ้าน หาโมเดลที่ดีที่สุด จาก DT,NaiveBayes,KNN,ANN โดย เปรียบเทียบ อย่างละสอง parameter sets"
      ],
      "metadata": {
        "id": "U6UbwINLYA8r"
      }
    },
    {
      "cell_type": "code",
      "source": [
        "from sklearn.model_selection import train_test_split  #การแบ่งข้อมูลเป็น train set 80% และ test set 20% \n",
        "\n",
        "X_train, X_test, y_train, y_test = train_test_split(X, y, test_size=0.2, random_state=42)    # X คือ feature และ y คือ target "
      ],
      "metadata": {
        "id": "JeykOimYX9sw"
      },
      "execution_count": 13,
      "outputs": []
    },
    {
      "cell_type": "markdown",
      "source": [
        "- จะใช้ 10-fold cross-validation เพื่อประเมินประสิทธิภาพของแต่ละโมเดล"
      ],
      "metadata": {
        "id": "6-JB-J6FYHmg"
      }
    },
    {
      "cell_type": "markdown",
      "source": [
        "##Decision Tree"
      ],
      "metadata": {
        "id": "-gJ9E4JMYLYE"
      }
    },
    {
      "cell_type": "code",
      "source": [
        "from sklearn.tree import DecisionTreeClassifier     \n",
        "from sklearn.model_selection import GridSearchCV   #GridSearchCV คือ การหาค่าที่ดีที่สุดของพารามิเตอร์ วิธีคือการกำหนดค่าของแต่ละพารามิเตอร์ที่เราต้องการจะหา \n",
        "\n",
        "# Define the parameter sets to test   กำหนดชุดพารามิเตอร์ที่จะทดสอบ\n",
        "param_grid = {'max_depth': [3, 5],\n",
        "              'min_samples_split': [2, 5]}\n",
        "\n",
        "# Define the model   กำหนดโมเดล\n",
        "dt = DecisionTreeClassifier(random_state=42)\n",
        "\n",
        "# Define the grid search  #กำหนดและหา  GridSearchCV \n",
        "dt_cv = GridSearchCV(dt, param_grid, cv=10)\n",
        "\n",
        "# Fit the grid search to the data #ปรับ grid ให้ค้นหาข้อมูล\n",
        "dt_cv.fit(X_train, y_train)\n",
        "\n",
        "# Print the best parameters and the corresponding score แสดงพารามิเตอร์ที่ดีที่สุดและคะแนนที่เกี่ยวข้อง\n",
        "print(\"Best parameters: \", dt_cv.best_params_)\n",
        "print(\"Best score: \", dt_cv.best_score_)"
      ],
      "metadata": {
        "id": "JVobC8oeYESz",
        "outputId": "672b1534-04ca-4b49-cd87-001555938809",
        "colab": {
          "base_uri": "https://localhost:8080/"
        }
      },
      "execution_count": 14,
      "outputs": [
        {
          "output_type": "stream",
          "name": "stdout",
          "text": [
            "Best parameters:  {'max_depth': 5, 'min_samples_split': 2}\n",
            "Best score:  0.645066045066045\n"
          ]
        }
      ]
    },
    {
      "cell_type": "markdown",
      "source": [
        "##Naive Bayes"
      ],
      "metadata": {
        "id": "9z1PnjFoYWAc"
      }
    },
    {
      "cell_type": "code",
      "source": [
        "from sklearn.naive_bayes import GaussianNB\n",
        "\n",
        "# Define the parameter sets to test   กำหนดชุดพารามิเตอร์ที่จะทดสอบ\n",
        "param_grid = {}\n",
        "\n",
        "# Define the model  กำหนดโมเดล\n",
        "nb = GaussianNB()\n",
        "\n",
        "# Define the grid search  กำหนดและหา  GridSearchCV \n",
        "nb_cv = GridSearchCV(nb, param_grid, cv=10)\n",
        "\n",
        "# Fit the grid search to the data  # ปรับการค้นหา GridSearchCV ให้พอดีกับข้อมูล\n",
        "nb_cv.fit(X_train, y_train)\n",
        "\n",
        "# Print the best parameters and the corresponding score  แสดงพารามิเตอร์ที่ดีที่สุดและคะแนนที่เกี่ยวข้อง\n",
        "print(\"Best parameters: \", nb_cv.best_params_)\n",
        "print(\"Best score: \", nb_cv.best_score_)"
      ],
      "metadata": {
        "id": "ZNTtoADxYSiy",
        "outputId": "d7dc2e88-84a7-4e94-dd45-a19290c374f6",
        "colab": {
          "base_uri": "https://localhost:8080/"
        }
      },
      "execution_count": 15,
      "outputs": [
        {
          "output_type": "stream",
          "name": "stdout",
          "text": [
            "Best parameters:  {}\n",
            "Best score:  0.8295211732711734\n"
          ]
        }
      ]
    },
    {
      "cell_type": "markdown",
      "source": [
        "##KNN"
      ],
      "metadata": {
        "id": "Uc0oxRMtYdaJ"
      }
    },
    {
      "cell_type": "code",
      "source": [
        "from sklearn.neighbors import KNeighborsClassifier\n",
        "\n",
        "# Define the parameter sets to test   กำหนดชุดพารามิเตอร์ที่จะทดสอบ\n",
        "param_grid = {'n_neighbors': [1, 3],\n",
        "              'weights': ['uniform', 'distance']}\n",
        "\n",
        "# Define the model กำหนดโมเดล\n",
        "knn = KNeighborsClassifier()\n",
        "\n",
        "# Define the grid search  กำหนดและหา  GridSearchCV \n",
        "knn_cv = GridSearchCV(knn, param_grid, cv=10)\n",
        "\n",
        "# Fit the grid search to the data ปรับการค้นหา GridSearchCV ให้พอดีกับข้อมูล\n",
        "knn_cv.fit(X_train, y_train)\n",
        "\n",
        "# Print the best parameters and the corresponding score  แสดงพารามิเตอร์ที่ดีที่สุดและคะแนนที่เกี่ยวข้อง\n",
        "print(\"Best parameters: \", knn_cv.best_params_)\n",
        "print(\"Best score: \", knn_cv.best_score_)"
      ],
      "metadata": {
        "id": "pLY9Yca7YZwf",
        "outputId": "20ad59d1-86fe-43c7-f5c4-e62b24869465",
        "colab": {
          "base_uri": "https://localhost:8080/"
        }
      },
      "execution_count": 16,
      "outputs": [
        {
          "output_type": "stream",
          "name": "stdout",
          "text": [
            "Best parameters:  {'n_neighbors': 1, 'weights': 'uniform'}\n",
            "Best score:  0.9881604506604506\n"
          ]
        }
      ]
    },
    {
      "cell_type": "markdown",
      "source": [
        "##ANN"
      ],
      "metadata": {
        "id": "Mj40HDnbYnmJ"
      }
    },
    {
      "cell_type": "code",
      "source": [
        "from sklearn.naive_bayes import GaussianNB\n",
        "\n",
        "# Define the parameter sets to test   กำหนดชุดพารามิเตอร์ที่จะทดสอบ\n",
        "param_grid = {}\n",
        "\n",
        "# Define the model  กำหนดโมเดล\n",
        "nb = GaussianNB()\n",
        "\n",
        "# Define the grid search  กำหนดและหา  GridSearchCV \n",
        "nb_cv = GridSearchCV(nb, param_grid, cv=10)\n",
        "\n",
        "# Fit the grid search to the data  # ปรับการค้นหา GridSearchCV ให้พอดีกับข้อมูล\n",
        "nb_cv.fit(X_train, y_train)\n",
        "\n",
        "# Print the best parameters and the corresponding score  แสดงพารามิเตอร์ที่ดีที่สุดและคะแนนที่เกี่ยวข้อง\n",
        "print(\"Best parameters: \", nb_cv.best_params_)\n",
        "print(\"Best score: \", nb_cv.best_score_)"
      ],
      "metadata": {
        "id": "qzNdfB7mYjh8",
        "outputId": "614d96d6-ffb4-45ff-f22f-1e24a0113bd9",
        "colab": {
          "base_uri": "https://localhost:8080/"
        }
      },
      "execution_count": 17,
      "outputs": [
        {
          "output_type": "stream",
          "name": "stdout",
          "text": [
            "Best parameters:  {}\n",
            "Best score:  0.8295211732711734\n"
          ]
        }
      ]
    },
    {
      "cell_type": "markdown",
      "source": [
        " ตอบ โมเดลที่ดีที่สุด คือ KNN มีค่าเท่ากับ 0.9881604506604506"
      ],
      "metadata": {
        "id": "9pTUOwEIYvwA"
      }
    }
  ]
}